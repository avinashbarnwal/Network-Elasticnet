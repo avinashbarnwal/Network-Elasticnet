{
 "cells": [
  {
   "cell_type": "code",
   "execution_count": 2,
   "metadata": {},
   "outputs": [],
   "source": [
    "import pandas          as pd\n",
    "import numpy           as np\n",
    "from   multiprocessing import Pool"
   ]
  },
  {
   "cell_type": "code",
   "execution_count": 3,
   "metadata": {},
   "outputs": [],
   "source": [
    "def getData(cancerType):\n",
    "    \n",
    "    filename  = '../data/data_phy_top100_'+cancerType+'.csv'\n",
    "    data = pd.read_csv(filename)\n",
    "    return data\n",
    "\n",
    "def getWeight(data):\n",
    "    \n",
    "    data.sort_values(by = ['OS_MONTHS'],inplace=True)\n",
    "    data['OS_STATUS']   = data['OS_STATUS'].apply(lambda x : 1 if x=='DECEASED' else 0)\n",
    "    n                   = data.shape[0]\n",
    "    w                   = [1]*n\n",
    "    w[0]                = data['OS_STATUS'][0]/n\n",
    "    \n",
    "    for i in range(1,n):\n",
    "        for j in range(i):\n",
    "            w[i]  = w[i]*np.power(((n-j)/(n-j+1)),(data['OS_STATUS'][j]))\n",
    "        w[i]      = (data['OS_STATUS'][i]/(n-i+1))*w[i]\n",
    "        \n",
    "    return w,data"
   ]
  },
  {
   "cell_type": "code",
   "execution_count": 4,
   "metadata": {},
   "outputs": [],
   "source": [
    "class TransformColumn(object):\n",
    "    def __init__(self,data,w,start_column,end_column):\n",
    "        \n",
    "        self.data         = data\n",
    "        self.w            = w\n",
    "        self.start_column = start_column\n",
    "        self.end_column   = end_column\n",
    "        \n",
    "    def singleColumnTransform(self,column_no):\n",
    "        \n",
    "        #print(column_no)\n",
    "        mean_x = sum(self.data.iloc[:,column_no]*w)/sum(w)\n",
    "        self.data.iloc[:,column_no] = (self.data.iloc[:,column_no]-mean_x)*np.power(self.w,0.5)\n",
    "        \n",
    "        return self.data\n",
    "    \n",
    "    def multipleColumnsTransform(self):\n",
    "        \n",
    "        tasks   = np.arange(self.start_column,self.end_column+1)\n",
    "        mp_pool = Pool(50)\n",
    "        result  = mp_pool.map(self.singleColumnTransform,tasks)\n",
    "        \n",
    "        return result\n",
    "    \n",
    "def transform(data,w):\n",
    "    \n",
    "    mean_y            = sum(data['OS_MONTHS']*w)/sum(w)\n",
    "    data['OS_MONTHS'] = (data['OS_MONTHS']-mean_y)*np.power(w,0.5)\n",
    "    \n",
    "    return data"
   ]
  },
  {
   "cell_type": "code",
   "execution_count": 5,
   "metadata": {},
   "outputs": [],
   "source": [
    "start_column  = 2\n",
    "end_column    = 101"
   ]
  },
  {
   "cell_type": "code",
   "execution_count": 6,
   "metadata": {},
   "outputs": [],
   "source": [
    "data_luad       = getData('LUAD')\n",
    "w,data_luad     = getWeight(data_luad) \n",
    "Transformcolumn = TransformColumn(data_luad,w,start_column,end_column)\n",
    "result          = Transformcolumn.multipleColumnsTransform()\n",
    "no_column       = len(result)\n",
    "data_luad_trans = data_luad.copy()\n",
    "for i in np.arange(2,no_column+2):\n",
    "    data_luad_trans.iloc[:,i] = result[i-2].iloc[:,i]\n",
    "data_luad_trans = transform(data_luad_trans,w) "
   ]
  },
  {
   "cell_type": "code",
   "execution_count": 14,
   "metadata": {},
   "outputs": [],
   "source": [
    "data_luad_trans.to_csv(\"../data/data_luad_trans.csv\")"
   ]
  },
  {
   "cell_type": "code",
   "execution_count": 11,
   "metadata": {},
   "outputs": [],
   "source": [
    "data_lusc       = getData('LUSC')\n",
    "w,data_lusc     = getWeight(data_lusc) \n",
    "Transformcolumn = TransformColumn(data_lusc,w,start_column,end_column)\n",
    "result          = Transformcolumn.multipleColumnsTransform()\n",
    "no_column       = len(result)\n",
    "data_lusc_trans = data_lusc.copy()\n",
    "for i in np.arange(2,no_column+2):\n",
    "    data_lusc_trans.iloc[:,i] = result[i-2].iloc[:,i]\n",
    "data_lusc_trans = transform(data_lusc_trans,w) "
   ]
  },
  {
   "cell_type": "code",
   "execution_count": 15,
   "metadata": {},
   "outputs": [],
   "source": [
    "data_lusc_trans.to_csv(\"../data/data_lusc_trans.csv\")"
   ]
  }
 ],
 "metadata": {
  "kernelspec": {
   "display_name": "Python 3",
   "language": "python",
   "name": "python3"
  },
  "language_info": {
   "codemirror_mode": {
    "name": "ipython",
    "version": 3
   },
   "file_extension": ".py",
   "mimetype": "text/x-python",
   "name": "python",
   "nbconvert_exporter": "python",
   "pygments_lexer": "ipython3",
   "version": "3.7.3"
  }
 },
 "nbformat": 4,
 "nbformat_minor": 2
}
