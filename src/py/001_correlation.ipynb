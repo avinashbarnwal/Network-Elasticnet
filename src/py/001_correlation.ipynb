{
 "cells": [
  {
   "cell_type": "code",
   "execution_count": 1,
   "metadata": {},
   "outputs": [],
   "source": [
    "import pandas as pd\n",
    "import numpy as np"
   ]
  },
  {
   "cell_type": "code",
   "execution_count": 2,
   "metadata": {},
   "outputs": [],
   "source": [
    "def getData(path,cancerType):\n",
    "    filename        = \"../data/data_phy_top100_\" + cancerType + \".csv\"\n",
    "    data            = pd.read_csv(filename)\n",
    "    return data"
   ]
  },
  {
   "cell_type": "code",
   "execution_count": 3,
   "metadata": {},
   "outputs": [],
   "source": [
    "def getCorrelationRow(data,i):\n",
    "    correlation     = abs(data['SMOKING_PACK_YEARS'][i] - data['SMOKING_PACK_YEARS'])+0.001\n",
    "    correlation     = 1/correlation\n",
    "    correlation[i]  = 0\n",
    "    correlation     = correlation/1000 \n",
    "    correlation     = pd.DataFrame(correlation)\n",
    "    correlation     = correlation.T\n",
    "    correlation.index = [i]\n",
    "    return correlation"
   ]
  },
  {
   "cell_type": "code",
   "execution_count": 4,
   "metadata": {},
   "outputs": [],
   "source": [
    "data_luad           = getData(\"../data/data_phy_top100_\",'LUAD')\n",
    "correlationDataLuad = pd.DataFrame()\n",
    "n                   = data_luad.shape[0]\n",
    "for i in range(n):\n",
    "    correlationTemp     = getCorrelationRow(data_luad,i)\n",
    "    correlationDataLuad = pd.concat([correlationTemp,correlationDataLuad],axis=0)\n",
    "correlationDataLuad.to_csv(\"../data/correlation_luad.csv\")"
   ]
  },
  {
   "cell_type": "code",
   "execution_count": 7,
   "metadata": {},
   "outputs": [],
   "source": [
    "data_lusc           = getData(\"../data/data_phy_top100_\",'LUSC')\n",
    "correlationDataLusc = pd.DataFrame()\n",
    "n                   = data_lusc.shape[0]\n",
    "for i in range(n):\n",
    "    correlationTemp     = getCorrelationRow(data_lusc,i)\n",
    "    correlationDataLusc = pd.concat([correlationTemp,correlationDataLusc],axis=0)\n",
    "    \n",
    "correlationDataLusc.to_csv(\"../data/correlation_lusc.csv\")"
   ]
  },
  {
   "cell_type": "code",
   "execution_count": 25,
   "metadata": {},
   "outputs": [],
   "source": [
    "test_data_luad               = pd.read_csv('../data/test_data_luad_trans.csv')\n",
    "correlationTempDataLuad      = pd.DataFrame()\n",
    "n                            = test_data_luad.shape[0]"
   ]
  },
  {
   "cell_type": "code",
   "execution_count": 26,
   "metadata": {},
   "outputs": [],
   "source": [
    "for i in range(n):\n",
    "    correlationTemp     = getCorrelationRow(test_data_luad,i)\n",
    "    correlationTempDataLuad = pd.concat([correlationTemp,correlationTempDataLuad],axis=0)\n",
    "correlationTempDataLuad.to_csv(\"../data/test_correlation_luad.csv\")"
   ]
  },
  {
   "cell_type": "code",
   "execution_count": 27,
   "metadata": {},
   "outputs": [],
   "source": [
    "test_data_lusc               = pd.read_csv('../data/test_data_lusc_trans.csv')\n",
    "correlationTempDataLusc      = pd.DataFrame()\n",
    "n                            = test_data_lusc.shape[0]"
   ]
  },
  {
   "cell_type": "code",
   "execution_count": 28,
   "metadata": {},
   "outputs": [],
   "source": [
    "for i in range(n):\n",
    "    correlationTemp         = getCorrelationRow(test_data_lusc,i)\n",
    "    correlationTempDataLusc = pd.concat([correlationTemp,correlationTempDataLusc],axis=0)\n",
    "correlationTempDataLusc.to_csv(\"../data/test_correlation_lusc.csv\")"
   ]
  }
 ],
 "metadata": {
  "kernelspec": {
   "display_name": "Python 3",
   "language": "python",
   "name": "python3"
  },
  "language_info": {
   "codemirror_mode": {
    "name": "ipython",
    "version": 3
   },
   "file_extension": ".py",
   "mimetype": "text/x-python",
   "name": "python",
   "nbconvert_exporter": "python",
   "pygments_lexer": "ipython3",
   "version": "3.7.3"
  }
 },
 "nbformat": 4,
 "nbformat_minor": 2
}
